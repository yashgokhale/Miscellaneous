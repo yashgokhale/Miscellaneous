{
 "cells": [
  {
   "cell_type": "code",
   "execution_count": 218,
   "metadata": {},
   "outputs": [],
   "source": [
    "import numpy as np\n",
    "import matplotlib.pyplot as plt\n",
    "import statsmodels.api as sm\n",
    "import pandas as pd\n",
    "import requests\n",
    "import json\n",
    "import petl as etl"
   ]
  },
  {
   "cell_type": "code",
   "execution_count": 219,
   "metadata": {},
   "outputs": [],
   "source": [
    "data=np.loadtxt('C:/Users/yashg/OneDrive/Desktop/CMU/Fall 2020/Data Management/Water_Temp_Strain.txt')"
   ]
  },
  {
   "cell_type": "code",
   "execution_count": 221,
   "metadata": {},
   "outputs": [],
   "source": [
    "T=data[:,0]\n",
    "W=data[:,1]\n",
    "q_given=data[:,2]\n",
    "t0=0\n",
    "dt=144\n",
    "tf=t0+(len(T)-1)*dt\n",
    "t=np.linspace(t0,tf,len(T))\n",
    "df={'Time':t,'Temperature':T,'Water level':W,'Strain':q_given}\n",
    "dff=pd.DataFrame(df)"
   ]
  },
  {
   "cell_type": "code",
   "execution_count": 222,
   "metadata": {},
   "outputs": [],
   "source": [
    "X=dff[['Time','Temperature','Water level']].values\n",
    "y=dff['Strain'].values\n",
    "X=sm.add_constant(X)"
   ]
  },
  {
   "cell_type": "code",
   "execution_count": 223,
   "metadata": {},
   "outputs": [],
   "source": [
    "model=sm.OLS(y,X).fit()"
   ]
  },
  {
   "cell_type": "code",
   "execution_count": 224,
   "metadata": {},
   "outputs": [
    {
     "name": "stdout",
     "output_type": "stream",
     "text": [
      "beta:-439.5023812074243\n",
      "alpha:-0.00042984263809531947\n",
      "gamma:-53.15723364050682\n",
      "delta:1.4432743355313762\n"
     ]
    }
   ],
   "source": [
    "#a\n",
    "pars=model.params\n",
    "parn=['beta','alpha','gamma','delta']\n",
    "for i,x in enumerate(pars):\n",
    "    print(f'{parn[i]}:{pars[i]}')"
   ]
  },
  {
   "cell_type": "code",
   "execution_count": 225,
   "metadata": {},
   "outputs": [
    {
     "data": {
      "text/plain": [
       "-625.1325035247166"
      ]
     },
     "execution_count": 225,
     "metadata": {},
     "output_type": "execute_result"
    }
   ],
   "source": [
    "#b\n",
    "t_3000=t0+(3000-1)*dt\n",
    "q_3000=pars[0]+t_3000*pars[1]\n",
    "q_3000"
   ]
  },
  {
   "cell_type": "code",
   "execution_count": 239,
   "metadata": {},
   "outputs": [
    {
     "data": {
      "text/plain": [
       "-1569.128834121924"
      ]
     },
     "execution_count": 239,
     "metadata": {},
     "output_type": "execute_result"
    }
   ],
   "source": [
    "#c\n",
    "n_samples=len(T)*5\n",
    "t_final=5*365*24*60\n",
    "q_5y=pars[0]+t_final*pars[1]\n",
    "q_5y"
   ]
  },
  {
   "cell_type": "code",
   "execution_count": 227,
   "metadata": {},
   "outputs": [],
   "source": [
    "#d\n",
    "actual=y\n",
    "predicted=model.predict(X)\n",
    "resd=actual-predicted"
   ]
  },
  {
   "cell_type": "code",
   "execution_count": 228,
   "metadata": {
    "scrolled": true
   },
   "outputs": [
    {
     "data": {
      "image/png": "[encoded data removed]",
      "text/plain": [
       "<Figure size 432x288 with 1 Axes>"
      ]
     },
     "metadata": {
      "needs_background": "light"
     },
     "output_type": "display_data"
    },
    {
     "name": "stdout",
     "output_type": "stream",
     "text": [
      "Mean  3.0590509279023714e-13\n",
      "SD  3293.501826329708\n"
     ]
    }
   ],
   "source": [
    "plt.plot(dff['Time'].values,resd,'.')\n",
    "plt.xlabel('Time')\n",
    "plt.ylabel('Residuals')\n",
    "plt.title('Residuals from linear regression model set up')\n",
    "plt.show()\n",
    "res_mean=resd.mean()\n",
    "res_sd=resd.std()\n",
    "print('Mean ',res_mean)\n",
    "print('SD ',res_sd)"
   ]
  },
  {
   "cell_type": "code",
   "execution_count": 229,
   "metadata": {},
   "outputs": [],
   "source": [
    "def get_resids(X,y):\n",
    "    model=sm.OLS(y,X).fit()\n",
    "    pred=model.predict(X)\n",
    "    res=y-pred\n",
    "    return res,pred,model"
   ]
  },
  {
   "cell_type": "code",
   "execution_count": 230,
   "metadata": {},
   "outputs": [],
   "source": [
    "def cc(X,y):\n",
    "    res,pred,model=get_resids(X,y)\n",
    "    m=res.mean()\n",
    "    sd=res.std()\n",
    "    d_mean=np.abs(res-m)\n",
    "    locs=np.where((d_mean>3*sd))\n",
    "    X_cut=np.delete(X,(*locs),axis=0)\n",
    "    y_cut=np.delete(y,(*locs),axis=0)\n",
    "    return X_cut,y_cut,locs[0]"
   ]
  },
  {
   "cell_type": "code",
   "execution_count": 231,
   "metadata": {},
   "outputs": [],
   "source": [
    "ind=[i for i in range(len(y))]\n",
    "ind=np.array([ind]).astype(int).T\n",
    "X2=np.concatenate((ind,X),axis=1)\n",
    "y2=y[:]"
   ]
  },
  {
   "cell_type": "code",
   "execution_count": 232,
   "metadata": {},
   "outputs": [
    {
     "name": "stdout",
     "output_type": "stream",
     "text": [
      "For iteration 1: Values-[array([ -13249.53401888, -198650.87634706])] and Locations: [[2499 3049]]\n",
      "For iteration 2: Values-[array([ 162.45317465,  108.52819178,  130.87725006,  149.46374851,\n",
      "         -7.69926301,  129.26156096,  -79.22511051, -159.82903911,\n",
      "       -249.91219726,  -51.00242285, -200.20259576])] and Locations: [[  49  199  349  499  598  599 2199 2959 2969 3199 3299]]\n",
      "For iteration 3: Values-[array([ 83.09993423,   4.61550081, -15.94964446])] and Locations: [[ 997 1419 2426]]\n",
      "[ 1.14879353e+01 -3.75975974e-05 -9.86864597e-01  1.55176808e+00]\n"
     ]
    }
   ],
   "source": [
    "ind=[i for i in range(len(y))]\n",
    "ind=np.array([ind]).astype(int).T\n",
    "X2=np.concatenate((ind,X),axis=1)\n",
    "y2=y[:]\n",
    "d={}\n",
    "for i in range(10):\n",
    "    X_reg=X2[:,1:]\n",
    "    y_reg=y2\n",
    "    model2=sm.OLS(y_reg,X_reg).fit()\n",
    "    pred=model2.predict(X_reg)\n",
    "    res=y_reg-pred   \n",
    "    m=res.mean()\n",
    "    sd=res.std()\n",
    "    d_mean=np.abs(res-m)\n",
    "    locs=np.where((d_mean>3*sd))\n",
    "    X_cut=np.delete(X2,(*locs),axis=0)\n",
    "    y_cut=np.delete(y2,(*locs),axis=0)   \n",
    "    res_vals=[y2[j] for j in locs]\n",
    "    indi=[X2[j,0] for j in locs]\n",
    "    indi=np.array(indi).astype(int)\n",
    "    X2=X_cut\n",
    "    y2=y_cut\n",
    "    if len(locs[0])!=0:\n",
    "        print(f'For iteration {i+1}: Values-{(res_vals)} and Locations: {(indi)}')\n",
    "    if len(locs[0])==0:\n",
    "        print(model2.params)\n",
    "        break"
   ]
  },
  {
   "cell_type": "code",
   "execution_count": 233,
   "metadata": {},
   "outputs": [
    {
     "name": "stdout",
     "output_type": "stream",
     "text": [
      "-4.748812770972984 -87.34020700989262\n"
     ]
    }
   ],
   "source": [
    "t_3000=t0+(3000-1)*dt\n",
    "t_5y=t_final=5*365*24*60\n",
    "pars2=model2.params\n",
    "q_3000_2=pars2[0]+t_3000*pars2[1]\n",
    "q_5y_2=pars2[0]+t_5y*pars2[1]\n",
    "print(q_3000_2,q_5y_2)"
   ]
  },
  {
   "cell_type": "code",
   "execution_count": 234,
   "metadata": {},
   "outputs": [
    {
     "name": "stdout",
     "output_type": "stream",
     "text": [
      "4\n",
      "[ 1.90283831e+01 -3.53928760e-05  1.65126195e+00]\n"
     ]
    }
   ],
   "source": [
    "#g\n",
    "X3=dff[['Time','Water level']].values\n",
    "y3=dff['Strain'].values\n",
    "X3=sm.add_constant(X3)\n",
    "for i in range(10):\n",
    "    model3=sm.OLS(y3,X3).fit()\n",
    "    pred=model3.predict(X3)\n",
    "    res=y3-pred   \n",
    "    m=res.mean()\n",
    "    sd=res.std()\n",
    "    d_mean=np.abs(res-m)\n",
    "    locs=np.where((d_mean>3*sd))\n",
    "    X_cut=np.delete(X3,(*locs),axis=0)\n",
    "    y_cut=np.delete(y3,(*locs),axis=0)   \n",
    "    X3=X_cut\n",
    "    y3=y_cut\n",
    "    if len(locs[0])==0:\n",
    "        print(i)\n",
    "        print(model3.params)\n",
    "        break   "
   ]
  },
  {
   "cell_type": "code",
   "execution_count": 235,
   "metadata": {},
   "outputs": [
    {
     "name": "stdout",
     "output_type": "stream",
     "text": [
      "3.7437572686081637 -74.00448122439485\n"
     ]
    }
   ],
   "source": [
    "t_3000=t0+(3000-1)*dt\n",
    "t_5y=t_final\n",
    "pars3=model3.params\n",
    "q_3000_3=pars3[0]+t_3000*pars3[1]\n",
    "q_5y_3=pars3[0]+t_5y*pars3[1]\n",
    "print(q_3000_3,q_5y_3)"
   ]
  }
 ],
 "metadata": {
  "kernelspec": {
   "display_name": "Python 3",
   "language": "python",
   "name": "python3"
  },
  "language_info": {
   "codemirror_mode": {
    "name": "ipython",
    "version": 3
   },
   "file_extension": ".py",
   "mimetype": "text/x-python",
   "name": "python",
   "nbconvert_exporter": "python",
   "pygments_lexer": "ipython3",
   "version": "3.7.3"
  }
 },
 "nbformat": 4,
 "nbformat_minor": 2
}
