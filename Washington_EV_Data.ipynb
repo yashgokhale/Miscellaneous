{
 "cells": [
  {
   "cell_type": "code",
   "execution_count": 10,
   "metadata": {},
   "outputs": [],
   "source": [
    "import numpy as np\n",
    "import pandas as pd\n",
    "import matplotlib.pyplot as plt"
   ]
  },
  {
   "cell_type": "markdown",
   "metadata": {},
   "source": [
    "Data source: https://catalog.data.gov/dataset/electric-vehicle-population-data/resource/ad90abe1-ef83-4a37-9d0c-a96ee3a798da?inner_span=True"
   ]
  },
  {
   "cell_type": "code",
   "execution_count": 2,
   "metadata": {},
   "outputs": [],
   "source": [
    "data=pd.read_csv('C:/Users/yashg/Downloads/Electric_Vehicle_Population_Data.csv')"
   ]
  },
  {
   "cell_type": "code",
   "execution_count": 7,
   "metadata": {},
   "outputs": [],
   "source": [
    "d_bev=data.groupby('Electric Vehicle Type').get_group('Battery Electric Vehicle (BEV)')\n",
    "d_phev=data.groupby('Electric Vehicle Type').get_group('Plug-in Hybrid Electric Vehicle (PHEV)')"
   ]
  },
  {
   "cell_type": "code",
   "execution_count": 11,
   "metadata": {},
   "outputs": [],
   "source": [
    "d_bev_range=d_bev['Electric Range']\n",
    "d_bev_cost=d_bev['Base MSRP']\n",
    "d_phev_range=d_phev['Electric Range']\n",
    "d_phev_cost=d_phev['Base MSRP']"
   ]
  },
  {
   "cell_type": "code",
   "execution_count": 25,
   "metadata": {},
   "outputs": [],
   "source": [
    "xx=np.where(d_bev_cost!=0)[0]\n",
    "xx2=np.where(d_phev_cost!=0)[0]"
   ]
  },
  {
   "cell_type": "code",
   "execution_count": 27,
   "metadata": {},
   "outputs": [
    {
     "data": {
      "image/png": "[encoded data removed]",
      "text/plain": [
       "<Figure size 432x288 with 1 Axes>"
      ]
     },
     "metadata": {
      "needs_background": "light"
     },
     "output_type": "display_data"
    }
   ],
   "source": [
    "plt.plot(d_bev_range,d_bev_cost,'.')\n",
    "plt.xlabel('Range')\n",
    "plt.ylabel('Cost')\n",
    "plt.title('BEV')\n",
    "plt.show()"
   ]
  },
  {
   "cell_type": "code",
   "execution_count": 28,
   "metadata": {},
   "outputs": [
    {
     "data": {
      "image/png": "[encoded data removed]",
      "text/plain": [
       "<Figure size 432x288 with 1 Axes>"
      ]
     },
     "metadata": {
      "needs_background": "light"
     },
     "output_type": "display_data"
    }
   ],
   "source": [
    "plt.plot(d_phev_range,d_phev_cost,'.')\n",
    "plt.xlabel('Range')\n",
    "plt.ylabel('Cost')\n",
    "plt.title('PHEV')\n",
    "plt.show()"
   ]
  },
  {
   "cell_type": "code",
   "execution_count": 30,
   "metadata": {},
   "outputs": [
    {
     "data": {
      "text/plain": [
       "Index(['VIN (1-10)', 'County', 'City', 'State', 'ZIP Code', 'Model Year',\n",
       "       'Make', 'Model', 'Electric Vehicle Type',\n",
       "       'Clean Alternative Fuel Vehicle (CAFV) Eligibility', 'Electric Range',\n",
       "       'Base MSRP', 'Legislative District', 'DOL Vehicle ID',\n",
       "       'Vehicle Location'],\n",
       "      dtype='object')"
      ]
     },
     "execution_count": 30,
     "metadata": {},
     "output_type": "execute_result"
    }
   ],
   "source": [
    "data.columns"
   ]
  },
  {
   "cell_type": "code",
   "execution_count": 56,
   "metadata": {},
   "outputs": [
    {
     "name": "stdout",
     "output_type": "stream",
     "text": [
      "VIN (1-10) 3968\n",
      "County 67\n",
      "City 429\n",
      "State 16\n",
      "ZIP Code 538\n",
      "Model Year 19\n",
      "Make 29\n",
      "Model 95\n",
      "Electric Vehicle Type 2\n",
      "Electric Vehicle Type\n",
      "['Battery Electric Vehicle (BEV)' 'Plug-in Hybrid Electric Vehicle (PHEV)']\n",
      "Clean Alternative Fuel Vehicle (CAFV) Eligibility 3\n",
      "Clean Alternative Fuel Vehicle (CAFV) Eligibility\n",
      "['Clean Alternative Fuel Vehicle Eligible'\n",
      " 'Not eligible due to low battery range'\n",
      " 'Eligibility unknown as battery range has not been researched']\n",
      "Electric Range 87\n",
      "Base MSRP 147\n",
      "Legislative District 50\n",
      "DOL Vehicle ID 59255\n",
      "Vehicle Location 536\n"
     ]
    }
   ],
   "source": [
    "for p in data.columns:\n",
    "    n=data[p].unique()\n",
    "    print(p,len(n))\n",
    "    if len(n)<10:\n",
    "        print(p)\n",
    "        print(n)"
   ]
  },
  {
   "cell_type": "code",
   "execution_count": 40,
   "metadata": {},
   "outputs": [
    {
     "data": {
      "text/plain": [
       "Clean Alternative Fuel Vehicle (CAFV) Eligibility\n",
       "Clean Alternative Fuel Vehicle Eligible                         47910\n",
       "Eligibility unknown as battery range has not been researched     1067\n",
       "Not eligible due to low battery range                           10278\n",
       "dtype: int64"
      ]
     },
     "execution_count": 40,
     "metadata": {},
     "output_type": "execute_result"
    }
   ],
   "source": [
    "data.groupby('Clean Alternative Fuel Vehicle (CAFV) Eligibility').size()"
   ]
  },
  {
   "cell_type": "code",
   "execution_count": 97,
   "metadata": {},
   "outputs": [],
   "source": [
    "evs=data[data['Clean Alternative Fuel Vehicle (CAFV) Eligibility']=='Clean Alternative Fuel Vehicle Eligible'].dropna()"
   ]
  },
  {
   "cell_type": "code",
   "execution_count": 108,
   "metadata": {},
   "outputs": [],
   "source": [
    "ran=evs['Electric Range']\n",
    "cost=evs['Base MSRP']\n",
    "typ=evs['Electric Vehicle Type']\n",
    "make=evs['Make']"
   ]
  },
  {
   "cell_type": "code",
   "execution_count": 109,
   "metadata": {},
   "outputs": [
    {
     "data": {
      "text/plain": [
       "[<matplotlib.lines.Line2D at 0x16320b2fd68>]"
      ]
     },
     "execution_count": 109,
     "metadata": {},
     "output_type": "execute_result"
    },
    {
     "data": {
      "image/png": "[encoded data removed]",
      "text/plain": [
       "<Figure size 432x288 with 1 Axes>"
      ]
     },
     "metadata": {
      "needs_background": "light"
     },
     "output_type": "display_data"
    }
   ],
   "source": [
    "plt.plot(ran,cost,'.')"
   ]
  },
  {
   "cell_type": "code",
   "execution_count": 110,
   "metadata": {},
   "outputs": [],
   "source": [
    "import tensorflow as tf"
   ]
  },
  {
   "cell_type": "code",
   "execution_count": 122,
   "metadata": {},
   "outputs": [],
   "source": [
    "from sklearn.preprocessing import OneHotEncoder"
   ]
  },
  {
   "cell_type": "code",
   "execution_count": 158,
   "metadata": {},
   "outputs": [],
   "source": [
    "enc = OneHotEncoder(drop='first')\n",
    "typ=np.reshape(np.array(typ),(len(typ),1))\n",
    "make=np.reshape(np.array(make),(len(make),1))\n",
    "ran=np.reshape(np.array(ran),(len(ran),1))\n",
    "cost=np.reshape(np.array(cost),(len(cost),1))"
   ]
  },
  {
   "cell_type": "code",
   "execution_count": 162,
   "metadata": {},
   "outputs": [],
   "source": [
    "from sklearn.preprocessing import MinMaxScaler\n",
    "scaler = MinMaxScaler()\n",
    "typ_arr=enc.fit_transform(typ).toarray()\n",
    "make_arr=enc.fit_transform(make).toarray()\n",
    "ran_scal=scaler.fit_transform(ran)\n",
    "cost_scal=scaler.fit_transform(cost)"
   ]
  },
  {
   "cell_type": "code",
   "execution_count": 163,
   "metadata": {},
   "outputs": [],
   "source": [
    "X=np.column_stack([ran_scal,typ_arr,make_arr])\n",
    "y=cost_scal"
   ]
  },
  {
   "cell_type": "code",
   "execution_count": 164,
   "metadata": {},
   "outputs": [],
   "source": [
    "from sklearn.model_selection import train_test_split\n",
    "X_train, X_test, y_train, y_test = train_test_split(X, y, test_size=0.33, random_state=42)"
   ]
  },
  {
   "cell_type": "code",
   "execution_count": 169,
   "metadata": {},
   "outputs": [
    {
     "data": {
      "text/plain": [
       "0.2807404882229865"
      ]
     },
     "execution_count": 169,
     "metadata": {},
     "output_type": "execute_result"
    }
   ],
   "source": [
    "from sklearn.linear_model import LinearRegression\n",
    "reg=LinearRegression().fit(X_train,y_train)\n",
    "coeff=reg.coef_\n",
    "b=reg.intercept_\n",
    "from sklearn.metrics import r2_score\n",
    "ypred=reg.predict(X_test)\n",
    "r2_score(y_test,ypred)"
   ]
  },
  {
   "cell_type": "code",
   "execution_count": 179,
   "metadata": {},
   "outputs": [],
   "source": [
    "from sklearn.metrics import mean_squared_error\n",
    "from sklearn.tree import DecisionTreeRegressor"
   ]
  },
  {
   "cell_type": "code",
   "execution_count": 180,
   "metadata": {},
   "outputs": [
    {
     "data": {
      "text/plain": [
       "0.9414514610981004"
      ]
     },
     "execution_count": 180,
     "metadata": {},
     "output_type": "execute_result"
    }
   ],
   "source": [
    "regressor=DecisionTreeRegressor(random_state=0)\n",
    "regressor.fit(X_train,y_train)\n",
    "y_pred=regressor.predict(X_test)\n",
    "r2_score(y_test,y_pred)"
   ]
  },
  {
   "cell_type": "code",
   "execution_count": 186,
   "metadata": {},
   "outputs": [],
   "source": [
    "from tensorflow.python.keras.models import Sequential\n",
    "from tensorflow.python.keras.layers import Dense\n",
    "from tensorflow.python.keras.wrappers.scikit_learn import KerasRegressor\n",
    "import statsmodels.api as sm\n",
    "import statsmodels.formula.api as smf\n",
    "import matplotlib.pyplot as plt\n",
    "import numpy as np\n",
    "import pandas as pd\n",
    "import math\n",
    "from sklearn.linear_model import LogisticRegression\n",
    "from sklearn.model_selection import train_test_split\n",
    "from sklearn.model_selection import cross_val_score\n",
    "from sklearn.model_selection import KFold\n",
    "from sklearn.pipeline import Pipeline\n",
    "from sklearn.preprocessing import MinMaxScaler\n",
    "from sklearn.ensemble import ExtraTreesClassifier\n",
    "from sklearn.metrics import mean_absolute_error\n",
    "from sklearn.metrics import mean_squared_error\n",
    "from sklearn.metrics import r2_score"
   ]
  },
  {
   "cell_type": "code",
   "execution_count": 188,
   "metadata": {},
   "outputs": [
    {
     "name": "stdout",
     "output_type": "stream",
     "text": [
      "Train on 25665 samples, validate on 6417 samples\n",
      "Epoch 1/30\n",
      "25665/25665 [==============================] - 2s 71us/sample - loss: 0.0302 - mean_squared_error: 0.0302 - mean_absolute_error: 0.1167 - val_loss: 0.0217 - val_mean_squared_error: 0.0217 - val_mean_absolute_error: 0.1015\n",
      "Epoch 2/30\n",
      "25665/25665 [==============================] - 1s 36us/sample - loss: 0.0197 - mean_squared_error: 0.0197 - mean_absolute_error: 0.0962 - val_loss: 0.0190 - val_mean_squared_error: 0.0190 - val_mean_absolute_error: 0.0963\n",
      "Epoch 3/30\n",
      "25665/25665 [==============================] - 2s 63us/sample - loss: 0.0191 - mean_squared_error: 0.0191 - mean_absolute_error: 0.0924 - val_loss: 0.0191 - val_mean_squared_error: 0.0191 - val_mean_absolute_error: 0.0922\n",
      "Epoch 4/30\n",
      "25665/25665 [==============================] - 1s 52us/sample - loss: 0.0189 - mean_squared_error: 0.0189 - mean_absolute_error: 0.0914 - val_loss: 0.0187 - val_mean_squared_error: 0.0187 - val_mean_absolute_error: 0.0874\n",
      "Epoch 5/30\n",
      "25665/25665 [==============================] - 1s 36us/sample - loss: 0.0190 - mean_squared_error: 0.0190 - mean_absolute_error: 0.0914 - val_loss: 0.0185 - val_mean_squared_error: 0.0185 - val_mean_absolute_error: 0.0878\n",
      "Epoch 6/30\n",
      "25665/25665 [==============================] - 1s 41us/sample - loss: 0.0186 - mean_squared_error: 0.0186 - mean_absolute_error: 0.0896 - val_loss: 0.0187 - val_mean_squared_error: 0.0187 - val_mean_absolute_error: 0.0863\n",
      "Epoch 7/30\n",
      "25665/25665 [==============================] - 1s 46us/sample - loss: 0.0184 - mean_squared_error: 0.0184 - mean_absolute_error: 0.0883 - val_loss: 0.0181 - val_mean_squared_error: 0.0181 - val_mean_absolute_error: 0.0846\n",
      "Epoch 8/30\n",
      "25665/25665 [==============================] - 1s 49us/sample - loss: 0.0183 - mean_squared_error: 0.0183 - mean_absolute_error: 0.0884 - val_loss: 0.0178 - val_mean_squared_error: 0.0178 - val_mean_absolute_error: 0.0838\n",
      "Epoch 9/30\n",
      "25665/25665 [==============================] - 1s 53us/sample - loss: 0.0182 - mean_squared_error: 0.0182 - mean_absolute_error: 0.0882 - val_loss: 0.0182 - val_mean_squared_error: 0.0182 - val_mean_absolute_error: 0.0888\n",
      "Epoch 10/30\n",
      "25665/25665 [==============================] - 1s 36us/sample - loss: 0.0178 - mean_squared_error: 0.0178 - mean_absolute_error: 0.0858 - val_loss: 0.0177 - val_mean_squared_error: 0.0177 - val_mean_absolute_error: 0.0866\n",
      "Epoch 11/30\n",
      "25665/25665 [==============================] - 1s 40us/sample - loss: 0.0177 - mean_squared_error: 0.0177 - mean_absolute_error: 0.0853 - val_loss: 0.0176 - val_mean_squared_error: 0.0176 - val_mean_absolute_error: 0.0841\n",
      "Epoch 12/30\n",
      "25665/25665 [==============================] - 1s 49us/sample - loss: 0.0176 - mean_squared_error: 0.0176 - mean_absolute_error: 0.0847 - val_loss: 0.0176 - val_mean_squared_error: 0.0176 - val_mean_absolute_error: 0.0880\n",
      "Epoch 13/30\n",
      "25665/25665 [==============================] - 1s 54us/sample - loss: 0.0176 - mean_squared_error: 0.0176 - mean_absolute_error: 0.0855 - val_loss: 0.0177 - val_mean_squared_error: 0.0177 - val_mean_absolute_error: 0.0850\n",
      "Epoch 14/30\n",
      "25665/25665 [==============================] - 1s 58us/sample - loss: 0.0175 - mean_squared_error: 0.0175 - mean_absolute_error: 0.0842 - val_loss: 0.0174 - val_mean_squared_error: 0.0174 - val_mean_absolute_error: 0.0820\n",
      "Epoch 15/30\n",
      "25665/25665 [==============================] - 1s 48us/sample - loss: 0.0174 - mean_squared_error: 0.0174 - mean_absolute_error: 0.0841 - val_loss: 0.0171 - val_mean_squared_error: 0.0171 - val_mean_absolute_error: 0.0836\n",
      "Epoch 16/30\n",
      "25665/25665 [==============================] - 1s 48us/sample - loss: 0.0171 - mean_squared_error: 0.0171 - mean_absolute_error: 0.0823 - val_loss: 0.0178 - val_mean_squared_error: 0.0178 - val_mean_absolute_error: 0.0860\n",
      "Epoch 17/30\n",
      "25665/25665 [==============================] - 2s 69us/sample - loss: 0.0167 - mean_squared_error: 0.0167 - mean_absolute_error: 0.0808 - val_loss: 0.0166 - val_mean_squared_error: 0.0166 - val_mean_absolute_error: 0.0795\n",
      "Epoch 18/30\n",
      "25665/25665 [==============================] - 1s 40us/sample - loss: 0.0159 - mean_squared_error: 0.0159 - mean_absolute_error: 0.0773 - val_loss: 0.0172 - val_mean_squared_error: 0.0172 - val_mean_absolute_error: 0.0817\n",
      "Epoch 19/30\n",
      "25665/25665 [==============================] - 1s 42us/sample - loss: 0.0153 - mean_squared_error: 0.0153 - mean_absolute_error: 0.0747 - val_loss: 0.0151 - val_mean_squared_error: 0.0151 - val_mean_absolute_error: 0.0730\n",
      "Epoch 20/30\n",
      "25665/25665 [==============================] - 1s 40us/sample - loss: 0.0144 - mean_squared_error: 0.0144 - mean_absolute_error: 0.0707 - val_loss: 0.0149 - val_mean_squared_error: 0.0149 - val_mean_absolute_error: 0.0721\n",
      "Epoch 21/30\n",
      "25665/25665 [==============================] - 1s 44us/sample - loss: 0.0138 - mean_squared_error: 0.0138 - mean_absolute_error: 0.0666 - val_loss: 0.0139 - val_mean_squared_error: 0.0139 - val_mean_absolute_error: 0.0637\n",
      "Epoch 22/30\n",
      "25665/25665 [==============================] - 1s 58us/sample - loss: 0.0131 - mean_squared_error: 0.0131 - mean_absolute_error: 0.0630 - val_loss: 0.0133 - val_mean_squared_error: 0.0133 - val_mean_absolute_error: 0.0605\n",
      "Epoch 23/30\n",
      "25665/25665 [==============================] - 1s 50us/sample - loss: 0.0128 - mean_squared_error: 0.0128 - mean_absolute_error: 0.0603 - val_loss: 0.0132 - val_mean_squared_error: 0.0132 - val_mean_absolute_error: 0.0630\n",
      "Epoch 24/30\n",
      "25665/25665 [==============================] - 1s 49us/sample - loss: 0.0124 - mean_squared_error: 0.0124 - mean_absolute_error: 0.0586 - val_loss: 0.0128 - val_mean_squared_error: 0.0128 - val_mean_absolute_error: 0.0598\n",
      "Epoch 25/30\n",
      "25665/25665 [==============================] - 1s 44us/sample - loss: 0.0123 - mean_squared_error: 0.0123 - mean_absolute_error: 0.0580 - val_loss: 0.0129 - val_mean_squared_error: 0.0129 - val_mean_absolute_error: 0.0602\n",
      "Epoch 26/30\n",
      "25665/25665 [==============================] - 1s 53us/sample - loss: 0.0121 - mean_squared_error: 0.0121 - mean_absolute_error: 0.0570 - val_loss: 0.0126 - val_mean_squared_error: 0.0126 - val_mean_absolute_error: 0.0583\n",
      "Epoch 27/30\n",
      "25665/25665 [==============================] - 1s 58us/sample - loss: 0.0118 - mean_squared_error: 0.0118 - mean_absolute_error: 0.0558 - val_loss: 0.0122 - val_mean_squared_error: 0.0122 - val_mean_absolute_error: 0.0564\n",
      "Epoch 28/30\n",
      "25665/25665 [==============================] - 2s 60us/sample - loss: 0.0116 - mean_squared_error: 0.0116 - mean_absolute_error: 0.0559 - val_loss: 0.0119 - val_mean_squared_error: 0.0119 - val_mean_absolute_error: 0.0557\n",
      "Epoch 29/30\n",
      "25665/25665 [==============================] - 1s 34us/sample - loss: 0.0113 - mean_squared_error: 0.0113 - mean_absolute_error: 0.0545 - val_loss: 0.0117 - val_mean_squared_error: 0.0117 - val_mean_absolute_error: 0.0602\n",
      "Epoch 30/30\n",
      "25665/25665 [==============================] - 1s 46us/sample - loss: 0.0112 - mean_squared_error: 0.0112 - mean_absolute_error: 0.0548 - val_loss: 0.0115 - val_mean_squared_error: 0.0115 - val_mean_absolute_error: 0.0525\n"
     ]
    }
   ],
   "source": [
    "model = Sequential()\n",
    "model.add(Dense(24, input_dim=24, kernel_initializer='normal', activation='relu'))\n",
    "model.add(Dense(1336, activation='relu'))\n",
    "model.add(Dense(1, activation='linear'))\n",
    "model.compile(loss='mse', optimizer='adam', metrics=['mse','mae'])\n",
    "history=model.fit(X_train, y_train, epochs=30, batch_size=150,  verbose=1, validation_split=0.2)"
   ]
  },
  {
   "cell_type": "code",
   "execution_count": 189,
   "metadata": {},
   "outputs": [
    {
     "name": "stdout",
     "output_type": "stream",
     "text": [
      "dict_keys(['loss', 'mean_squared_error', 'mean_absolute_error', 'val_loss', 'val_mean_squared_error', 'val_mean_absolute_error'])\n"
     ]
    },
    {
     "data": {
      "image/png": "[encoded data removed]",
      "text/plain": [
       "<Figure size 432x288 with 1 Axes>"
      ]
     },
     "metadata": {},
     "output_type": "display_data"
    }
   ],
   "source": [
    "print(history.history.keys())\n",
    "# \"Loss\"\n",
    "plt.plot(history.history['loss'])\n",
    "plt.plot(history.history['val_loss'])\n",
    "plt.title('model loss')\n",
    "plt.ylabel('loss')\n",
    "plt.xlabel('epoch')\n",
    "plt.legend(['train', 'validation'], loc='upper left')\n",
    "plt.show()"
   ]
  },
  {
   "cell_type": "code",
   "execution_count": 192,
   "metadata": {},
   "outputs": [],
   "source": [
    "ypred=model.predict(X_test)"
   ]
  },
  {
   "cell_type": "code",
   "execution_count": 193,
   "metadata": {},
   "outputs": [
    {
     "data": {
      "text/plain": [
       "0.05109372751662555"
      ]
     },
     "execution_count": 193,
     "metadata": {},
     "output_type": "execute_result"
    }
   ],
   "source": [
    "mean_absolute_error(y_test, ypred)"
   ]
  },
  {
   "cell_type": "code",
   "execution_count": 194,
   "metadata": {},
   "outputs": [
    {
     "data": {
      "text/plain": [
       "0.0112051271157094"
      ]
     },
     "execution_count": 194,
     "metadata": {},
     "output_type": "execute_result"
    }
   ],
   "source": [
    "mean_squared_error(y_test, ypred)"
   ]
  },
  {
   "cell_type": "code",
   "execution_count": null,
   "metadata": {},
   "outputs": [],
   "source": []
  }
 ],
 "metadata": {
  "kernelspec": {
   "display_name": "Python 3",
   "language": "python",
   "name": "python3"
  },
  "language_info": {
   "codemirror_mode": {
    "name": "ipython",
    "version": 3
   },
   "file_extension": ".py",
   "mimetype": "text/x-python",
   "name": "python",
   "nbconvert_exporter": "python",
   "pygments_lexer": "ipython3",
   "version": "3.7.3"
  }
 },
 "nbformat": 4,
 "nbformat_minor": 2
}
