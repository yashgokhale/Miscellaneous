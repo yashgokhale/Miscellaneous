{
 "cells": [
  {
   "cell_type": "code",
   "execution_count": 1,
   "metadata": {},
   "outputs": [],
   "source": [
    "import numpy as np\n",
    "import pandas as pd\n",
    "import os,glob\n",
    "import matplotlib.pyplot as plt\n",
    "import seaborn"
   ]
  },
  {
   "cell_type": "markdown",
   "metadata": {},
   "source": [
    "# Individual csv files"
   ]
  },
  {
   "cell_type": "code",
   "execution_count": 2,
   "metadata": {},
   "outputs": [],
   "source": [
    "os.chdir('C:\\\\Users\\\\yashg\\\\Documents\\\\Projects\\\\Hackathon_102021')"
   ]
  },
  {
   "cell_type": "code",
   "execution_count": 3,
   "metadata": {},
   "outputs": [],
   "source": [
    "fils=glob.glob(os.getcwd()+'\\\\Column Link Files\\\\*.xlsx')"
   ]
  },
  {
   "cell_type": "code",
   "execution_count": 4,
   "metadata": {},
   "outputs": [],
   "source": [
    "datlist=[x[-13:-5] for x in fils]"
   ]
  },
  {
   "cell_type": "code",
   "execution_count": 5,
   "metadata": {
    "scrolled": false
   },
   "outputs": [],
   "source": [
    "df=pd.DataFrame()\n",
    "for x in fils:\n",
    "    temp=pd.read_excel(x)\n",
    "    temp['Date']= x[-13:-5]\n",
    "    try:\n",
    "        temp=temp[['Date','Link','Clicks']]\n",
    "        df=pd.concat([df,temp])\n",
    "    except:\n",
    "        temp['Clicks']=np.nan\n",
    "        temp=temp[['Date','Link','Clicks']]\n",
    "        df=pd.concat([df,temp])"
   ]
  },
  {
   "cell_type": "code",
   "execution_count": 11,
   "metadata": {},
   "outputs": [],
   "source": [
    "df.to_csv('C:\\\\Users\\\\yashg\\\\Documents\\\\Projects\\\\Hackathon_102021\\\\alllinks.csv')"
   ]
  },
  {
   "cell_type": "markdown",
   "metadata": {},
   "source": [
    "# Summary file"
   ]
  },
  {
   "cell_type": "code",
   "execution_count": 6,
   "metadata": {},
   "outputs": [],
   "source": [
    "summary=pd.read_excel('summary.xlsx')"
   ]
  },
  {
   "cell_type": "code",
   "execution_count": 7,
   "metadata": {},
   "outputs": [],
   "source": [
    "summary['Date/Time']=pd.to_datetime(summary.iloc[:,0])\n",
    "summary['Day']=summary['Date/Time'].dt.dayofweek\n",
    "summary['hour']=summary['Date/Time'].dt.hour\n",
    "summary['Weekday']=summary['Day'].apply(lambda x: 0 if x<5 else 1)"
   ]
  },
  {
   "cell_type": "code",
   "execution_count": 8,
   "metadata": {},
   "outputs": [
    {
     "data": {
      "text/html": [
       "<div>\n",
       "<style scoped>\n",
       "    .dataframe tbody tr th:only-of-type {\n",
       "        vertical-align: middle;\n",
       "    }\n",
       "\n",
       "    .dataframe tbody tr th {\n",
       "        vertical-align: top;\n",
       "    }\n",
       "\n",
       "    .dataframe thead th {\n",
       "        text-align: right;\n",
       "    }\n",
       "</style>\n",
       "<table border=\"1\" class=\"dataframe\">\n",
       "  <thead>\n",
       "    <tr style=\"text-align: right;\">\n",
       "      <th></th>\n",
       "      <th>Date/Time</th>\n",
       "      <th>Duration</th>\n",
       "      <th>Sends</th>\n",
       "      <th>Opens</th>\n",
       "      <th>Clicks</th>\n",
       "      <th>Open Rate</th>\n",
       "      <th>Click Rate</th>\n",
       "      <th>Unsubscribes</th>\n",
       "      <th>Word Count</th>\n",
       "      <th>Link Count</th>\n",
       "      <th>Day</th>\n",
       "      <th>hour</th>\n",
       "      <th>Weekday</th>\n",
       "    </tr>\n",
       "  </thead>\n",
       "  <tbody>\n",
       "    <tr>\n",
       "      <th>0</th>\n",
       "      <td>2020-07-20 06:47:17.764</td>\n",
       "      <td>0:00:25.135</td>\n",
       "      <td>87</td>\n",
       "      <td>102</td>\n",
       "      <td>6</td>\n",
       "      <td>1.1724</td>\n",
       "      <td>0.0588</td>\n",
       "      <td>0</td>\n",
       "      <td>450</td>\n",
       "      <td>21</td>\n",
       "      <td>0</td>\n",
       "      <td>6</td>\n",
       "      <td>0</td>\n",
       "    </tr>\n",
       "    <tr>\n",
       "      <th>1</th>\n",
       "      <td>2020-07-21 06:33:50.176</td>\n",
       "      <td>0:00:33.135</td>\n",
       "      <td>74</td>\n",
       "      <td>142</td>\n",
       "      <td>22</td>\n",
       "      <td>1.9189</td>\n",
       "      <td>0.1549</td>\n",
       "      <td>0</td>\n",
       "      <td>478</td>\n",
       "      <td>21</td>\n",
       "      <td>1</td>\n",
       "      <td>6</td>\n",
       "      <td>0</td>\n",
       "    </tr>\n",
       "    <tr>\n",
       "      <th>2</th>\n",
       "      <td>2020-07-22 06:28:15.271</td>\n",
       "      <td>0:00:33.872</td>\n",
       "      <td>78</td>\n",
       "      <td>123</td>\n",
       "      <td>41</td>\n",
       "      <td>1.5769</td>\n",
       "      <td>0.3333</td>\n",
       "      <td>0</td>\n",
       "      <td>496</td>\n",
       "      <td>21</td>\n",
       "      <td>2</td>\n",
       "      <td>6</td>\n",
       "      <td>0</td>\n",
       "    </tr>\n",
       "    <tr>\n",
       "      <th>3</th>\n",
       "      <td>2020-07-23 06:38:34.308</td>\n",
       "      <td>0:00:33.712</td>\n",
       "      <td>82</td>\n",
       "      <td>135</td>\n",
       "      <td>7</td>\n",
       "      <td>1.6463</td>\n",
       "      <td>0.0519</td>\n",
       "      <td>0</td>\n",
       "      <td>496</td>\n",
       "      <td>24</td>\n",
       "      <td>3</td>\n",
       "      <td>6</td>\n",
       "      <td>0</td>\n",
       "    </tr>\n",
       "    <tr>\n",
       "      <th>4</th>\n",
       "      <td>2020-07-24 08:19:54.483</td>\n",
       "      <td>0:00:35.835</td>\n",
       "      <td>83</td>\n",
       "      <td>270</td>\n",
       "      <td>15</td>\n",
       "      <td>3.2530</td>\n",
       "      <td>0.0556</td>\n",
       "      <td>0</td>\n",
       "      <td>515</td>\n",
       "      <td>18</td>\n",
       "      <td>4</td>\n",
       "      <td>8</td>\n",
       "      <td>0</td>\n",
       "    </tr>\n",
       "  </tbody>\n",
       "</table>\n",
       "</div>"
      ],
      "text/plain": [
       "                Date/Time     Duration  Sends  Opens  Clicks  Open Rate  \\\n",
       "0 2020-07-20 06:47:17.764  0:00:25.135     87    102       6     1.1724   \n",
       "1 2020-07-21 06:33:50.176  0:00:33.135     74    142      22     1.9189   \n",
       "2 2020-07-22 06:28:15.271  0:00:33.872     78    123      41     1.5769   \n",
       "3 2020-07-23 06:38:34.308  0:00:33.712     82    135       7     1.6463   \n",
       "4 2020-07-24 08:19:54.483  0:00:35.835     83    270      15     3.2530   \n",
       "\n",
       "   Click Rate  Unsubscribes  Word Count  Link Count  Day  hour  Weekday  \n",
       "0      0.0588             0         450          21    0     6        0  \n",
       "1      0.1549             0         478          21    1     6        0  \n",
       "2      0.3333             0         496          21    2     6        0  \n",
       "3      0.0519             0         496          24    3     6        0  \n",
       "4      0.0556             0         515          18    4     8        0  "
      ]
     },
     "execution_count": 8,
     "metadata": {},
     "output_type": "execute_result"
    }
   ],
   "source": [
    "# parsing dates\n",
    "summary.head()"
   ]
  },
  {
   "cell_type": "code",
   "execution_count": 9,
   "metadata": {},
   "outputs": [],
   "source": [
    "summary.to_csv('C:\\\\Users\\\\yashg\\\\Documents\\\\Projects\\\\Hackathon_102021\\\\summary_2.csv')"
   ]
  },
  {
   "cell_type": "code",
   "execution_count": 10,
   "metadata": {
    "scrolled": false
   },
   "outputs": [
    {
     "data": {
      "image/png": "[encoded data removed]",
      "text/plain": [
       "<Figure size 432x288 with 1 Axes>"
      ]
     },
     "metadata": {
      "needs_background": "light"
     },
     "output_type": "display_data"
    },
    {
     "data": {
      "image/png": "[encoded data removed]",
      "text/plain": [
       "<Figure size 432x288 with 1 Axes>"
      ]
     },
     "metadata": {
      "needs_background": "light"
     },
     "output_type": "display_data"
    },
    {
     "data": {
      "image/png": "[encoded data removed]",
      "text/plain": [
       "<Figure size 432x288 with 1 Axes>"
      ]
     },
     "metadata": {
      "needs_background": "light"
     },
     "output_type": "display_data"
    },
    {
     "data": {
      "image/png": "[encoded data removed]",
      "text/plain": [
       "<Figure size 432x288 with 1 Axes>"
      ]
     },
     "metadata": {
      "needs_background": "light"
     },
     "output_type": "display_data"
    },
    {
     "data": {
      "image/png": "[encoded data removed]",
      "text/plain": [
       "<Figure size 432x288 with 1 Axes>"
      ]
     },
     "metadata": {
      "needs_background": "light"
     },
     "output_type": "display_data"
    },
    {
     "data": {
      "image/png": "[encoded data removed]",
      "text/plain": [
       "<Figure size 432x288 with 1 Axes>"
      ]
     },
     "metadata": {
      "needs_background": "light"
     },
     "output_type": "display_data"
    },
    {
     "data": {
      "image/png": "[encoded data removed]",
      "text/plain": [
       "<Figure size 432x288 with 1 Axes>"
      ]
     },
     "metadata": {
      "needs_background": "light"
     },
     "output_type": "display_data"
    }
   ],
   "source": [
    "# Preliminary graphs\n",
    "cols_sign=['Open Rate','Click Rate','Word Count','Link Count','Day','hour','Weekday']\n",
    "for c in cols_sign:\n",
    "    plt.hist(summary[c])\n",
    "    plt.title(c)\n",
    "    plt.show()"
   ]
  },
  {
   "cell_type": "code",
   "execution_count": null,
   "metadata": {},
   "outputs": [],
   "source": []
  }
 ],
 "metadata": {
  "kernelspec": {
   "display_name": "Python 3",
   "language": "python",
   "name": "python3"
  },
  "language_info": {
   "codemirror_mode": {
    "name": "ipython",
    "version": 3
   },
   "file_extension": ".py",
   "mimetype": "text/x-python",
   "name": "python",
   "nbconvert_exporter": "python",
   "pygments_lexer": "ipython3",
   "version": "3.8.5"
  }
 },
 "nbformat": 4,
 "nbformat_minor": 4
}
